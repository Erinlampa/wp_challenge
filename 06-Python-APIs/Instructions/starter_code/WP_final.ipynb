{
 "cells": [
  {
   "cell_type": "markdown",
   "metadata": {},
   "source": [
    "## Collect weather data for 500 cities and plot"
   ]
  },
  {
   "cell_type": "code",
   "execution_count": 438,
   "metadata": {},
   "outputs": [],
   "source": [
    "# Dependencies and Setup\n",
    "import matplotlib.pyplot as plt\n",
    "import pandas as pd\n",
    "import numpy as np\n",
    "import requests\n",
    "import time\n",
    "import json\n",
    "from ratelimit import limits\n",
    "import openweathermapy.core as owm"
   ]
  },
  {
   "cell_type": "markdown",
   "metadata": {},
   "source": [
    "## Create Base URL"
   ]
  },
  {
   "cell_type": "code",
   "execution_count": 420,
   "metadata": {},
   "outputs": [],
   "source": [
    "url = \"http://api.openweathermap.org/data/2.5/weather?\"\n",
    "units = \"imperial\""
   ]
  },
  {
   "cell_type": "markdown",
   "metadata": {},
   "source": [
    "## Add API Key"
   ]
  },
  {
   "cell_type": "code",
   "execution_count": 421,
   "metadata": {},
   "outputs": [],
   "source": [
    "# Import API key\n",
    "api_key = \"852305aaf0b662497d868eb7f882c53a\"\n",
    "# Incorporated citipy to determine city based on latitude and longitude\n",
    "from citipy import citipy"
   ]
  },
  {
   "cell_type": "markdown",
   "metadata": {},
   "source": [
    "## Collect List of Random Cities using Citipy"
   ]
  },
  {
   "cell_type": "code",
   "execution_count": 440,
   "metadata": {},
   "outputs": [],
   "source": [
    "# Range of latitudes and longitudes\n",
    "lat_range = (-90, 90)\n",
    "lng_range = (-180, 180)"
   ]
  },
  {
   "cell_type": "code",
   "execution_count": 441,
   "metadata": {},
   "outputs": [],
   "source": [
    "# List for holding lat_lngs and cities and json responses\n",
    "lat_lngs = []\n",
    "cities = []\n",
    "json_response = []"
   ]
  },
  {
   "cell_type": "code",
   "execution_count": 442,
   "metadata": {},
   "outputs": [],
   "source": [
    "# Create a set of random lat and lng combinations\n",
    "lats = np.random.uniform(low=-90.000, high=90.000, size=5)\n",
    "lngs = np.random.uniform(low=-180.000, high=180.000, size=5)\n",
    "lat_lngs = zip(lats, lngs)"
   ]
  },
  {
   "cell_type": "code",
   "execution_count": 443,
   "metadata": {},
   "outputs": [],
   "source": [
    "# Identify nearest city for each lat, lng combination\n",
    "for lat_lng in lat_lngs:\n",
    "    city = citipy.nearest_city(lat_lng[0], lat_lng[1]).city_name\n",
    "    \n",
    "    # If the city is unique, then add it to our cities list\n",
    "    if city not in cities:\n",
    "        cities.append(city)"
   ]
  },
  {
   "cell_type": "code",
   "execution_count": 444,
   "metadata": {},
   "outputs": [
    {
     "name": "stdout",
     "output_type": "stream",
     "text": [
      "5\n",
      "          city\n",
      "0      paamiut\n",
      "1      mataura\n",
      "2  valley city\n",
      "3     zhigansk\n",
      "4        alofi\n",
      "['paamiut', 'mataura', 'valley city', 'zhigansk', 'alofi']\n"
     ]
    }
   ],
   "source": [
    "# Print the city count to confirm sufficient count\n",
    "print(len(cities))\n",
    "cities_df = pd.DataFrame(cities)\n",
    "cities_df.columns = ['city']\n",
    "print(cities_df.head())\n",
    "print(cities)"
   ]
  },
  {
   "cell_type": "markdown",
   "metadata": {},
   "source": [
    "## Build Query"
   ]
  },
  {
   "cell_type": "code",
   "execution_count": 445,
   "metadata": {},
   "outputs": [],
   "source": [
    "# Build partial query URL\n",
    "url =  f\"{url}appid={api_key}&units={units}&q=\""
   ]
  },
  {
   "cell_type": "markdown",
   "metadata": {},
   "source": [
    "## Create placeholders for data"
   ]
  },
  {
   "cell_type": "code",
   "execution_count": 447,
   "metadata": {},
   "outputs": [],
   "source": [
    "# set up lists to hold reponse info\n",
    "lat_d = []\n",
    "temp = []\n",
    "clouds = []\n",
    "humid = []\n",
    "countries = []\n",
    "wind = []\n",
    "lng_d = []"
   ]
  },
  {
   "cell_type": "markdown",
   "metadata": {},
   "source": [
    "## Loop through cities"
   ]
  },
  {
   "cell_type": "code",
   "execution_count": 430,
   "metadata": {},
   "outputs": [
    {
     "name": "stdout",
     "output_type": "stream",
     "text": [
      "Beginning Weather Data Collection\n",
      "*************************************************\n",
      "Collecting weather data for yellowknife...please stand by\n",
      "Collecting weather data for hilo...please stand by\n",
      "Collecting weather data for vila franca do campo...please stand by\n",
      "Collecting weather data for khatanga...please stand by\n",
      "Collecting weather data for jamestown...please stand by\n",
      "done\n"
     ]
    }
   ],
   "source": [
    "# Loop through the list of cities and perform a request for data on each\n",
    "\n",
    "print(f\"Beginning Weather Data Collection\")\n",
    "print(f\"*************************************************\")\n",
    "\n",
    "\n",
    "for city in cities:\n",
    "   \n",
    "    try:\n",
    "        response = requests.get(url + city).json()\n",
    "        print(f\"Collecting weather data for {city}...please stand by\")\n",
    "        \n",
    "    \n",
    "     #Append lists \n",
    "        json_response.append(response)\n",
    "        lat_d.append(response['coord']['lat'])     \n",
    "        lng_d.append(response['coord']['lon'])\n",
    "        temp.append(response['main']['temp'])\n",
    "        clouds.append(response['clouds']['all'])\n",
    "        humid.append(response['main']['humidity'])\n",
    "        countries.append(response['sys']['country'])\n",
    "        wind.append(response['wind']['speed'])\n",
    " \n",
    "       \n",
    "   \n",
    "        # create a data frame from cities, lat, and temp\n",
    "        weather_dict = {\n",
    "            \"city\": cities,\n",
    "            \"lat\": lat_d,\n",
    "            \"long\": lng_d,\n",
    "            \"countries\": countries,\n",
    "            \"temp\": temp,\n",
    "            \"clouds\": clouds,\n",
    "            \"humidity\": humid, \n",
    "            \"windspeed_mph\": wind\n",
    "            }\n",
    "    except KeyError:\n",
    "        print(\"Data not found....skipping\")      \n",
    "\n",
    "print(\"done\")"
   ]
  },
  {
   "cell_type": "markdown",
   "metadata": {},
   "source": [
    "## Create dictionary with data"
   ]
  },
  {
   "cell_type": "code",
   "execution_count": 448,
   "metadata": {},
   "outputs": [
    {
     "data": {
      "text/plain": [
       "{'city': ['yellowknife',\n",
       "  'hilo',\n",
       "  'vila franca do campo',\n",
       "  'khatanga',\n",
       "  'jamestown'],\n",
       " 'lat': [62.45, 19.71, 37.72, 71.98, -33.21],\n",
       " 'long': [-114.38, -155.08, -25.43, 102.47, 138.6],\n",
       " 'countries': ['CA', 'US', 'PT', 'RU', 'AU'],\n",
       " 'temp': [-5.81, 77, 55.4, -11.34, 70.56],\n",
       " 'clouds': [90, 20, 20, 68, 0],\n",
       " 'humidity': [76, 68, 76, 74, 82],\n",
       " 'windspeed_mph': [10.29, 6.93, 5.82, 7.96, 5.17]}"
      ]
     },
     "execution_count": 448,
     "metadata": {},
     "output_type": "execute_result"
    }
   ],
   "source": [
    "weather_dict"
   ]
  },
  {
   "cell_type": "code",
   "execution_count": 449,
   "metadata": {},
   "outputs": [
    {
     "data": {
      "text/html": [
       "<div>\n",
       "<style scoped>\n",
       "    .dataframe tbody tr th:only-of-type {\n",
       "        vertical-align: middle;\n",
       "    }\n",
       "\n",
       "    .dataframe tbody tr th {\n",
       "        vertical-align: top;\n",
       "    }\n",
       "\n",
       "    .dataframe thead th {\n",
       "        text-align: right;\n",
       "    }\n",
       "</style>\n",
       "<table border=\"1\" class=\"dataframe\">\n",
       "  <thead>\n",
       "    <tr style=\"text-align: right;\">\n",
       "      <th></th>\n",
       "      <th>city</th>\n",
       "      <th>lat</th>\n",
       "      <th>long</th>\n",
       "      <th>countries</th>\n",
       "      <th>temp</th>\n",
       "      <th>clouds</th>\n",
       "      <th>humidity</th>\n",
       "      <th>windspeed_mph</th>\n",
       "    </tr>\n",
       "  </thead>\n",
       "  <tbody>\n",
       "    <tr>\n",
       "      <th>0</th>\n",
       "      <td>yellowknife</td>\n",
       "      <td>62.45</td>\n",
       "      <td>-114.38</td>\n",
       "      <td>CA</td>\n",
       "      <td>-5.81</td>\n",
       "      <td>90</td>\n",
       "      <td>76</td>\n",
       "      <td>10.29</td>\n",
       "    </tr>\n",
       "    <tr>\n",
       "      <th>1</th>\n",
       "      <td>hilo</td>\n",
       "      <td>19.71</td>\n",
       "      <td>-155.08</td>\n",
       "      <td>US</td>\n",
       "      <td>77.00</td>\n",
       "      <td>20</td>\n",
       "      <td>68</td>\n",
       "      <td>6.93</td>\n",
       "    </tr>\n",
       "    <tr>\n",
       "      <th>2</th>\n",
       "      <td>vila franca do campo</td>\n",
       "      <td>37.72</td>\n",
       "      <td>-25.43</td>\n",
       "      <td>PT</td>\n",
       "      <td>55.40</td>\n",
       "      <td>20</td>\n",
       "      <td>76</td>\n",
       "      <td>5.82</td>\n",
       "    </tr>\n",
       "    <tr>\n",
       "      <th>3</th>\n",
       "      <td>khatanga</td>\n",
       "      <td>71.98</td>\n",
       "      <td>102.47</td>\n",
       "      <td>RU</td>\n",
       "      <td>-11.34</td>\n",
       "      <td>68</td>\n",
       "      <td>74</td>\n",
       "      <td>7.96</td>\n",
       "    </tr>\n",
       "    <tr>\n",
       "      <th>4</th>\n",
       "      <td>jamestown</td>\n",
       "      <td>-33.21</td>\n",
       "      <td>138.60</td>\n",
       "      <td>AU</td>\n",
       "      <td>70.56</td>\n",
       "      <td>0</td>\n",
       "      <td>82</td>\n",
       "      <td>5.17</td>\n",
       "    </tr>\n",
       "  </tbody>\n",
       "</table>\n",
       "</div>"
      ],
      "text/plain": [
       "                   city    lat    long countries   temp  clouds  humidity  \\\n",
       "0           yellowknife  62.45 -114.38        CA  -5.81      90        76   \n",
       "1                  hilo  19.71 -155.08        US  77.00      20        68   \n",
       "2  vila franca do campo  37.72  -25.43        PT  55.40      20        76   \n",
       "3              khatanga  71.98  102.47        RU -11.34      68        74   \n",
       "4             jamestown -33.21  138.60        AU  70.56       0        82   \n",
       "\n",
       "   windspeed_mph  \n",
       "0          10.29  \n",
       "1           6.93  \n",
       "2           5.82  \n",
       "3           7.96  \n",
       "4           5.17  "
      ]
     },
     "execution_count": 449,
     "metadata": {},
     "output_type": "execute_result"
    }
   ],
   "source": [
    "#Create dataFrame\n",
    "weather_df = pd.DataFrame.from_dict(weather_dict)\n",
    "weather_df"
   ]
  },
  {
   "cell_type": "markdown",
   "metadata": {},
   "source": [
    "## Plot Data"
   ]
  },
  {
   "cell_type": "code",
   "execution_count": 450,
   "metadata": {},
   "outputs": [
    {
     "data": {
      "image/png": "[encoded data removed]",
      "text/plain": [
       "<Figure size 432x288 with 1 Axes>"
      ]
     },
     "metadata": {
      "needs_background": "light"
     },
     "output_type": "display_data"
    }
   ],
   "source": [
    "# Build a scatter plot for each data type\n",
    "plt.scatter(weather_df[\"lat\"], weather_df[\"temp\"], marker=\"o\")\n",
    "\n",
    "# Incorporate the other graph properties\n",
    "plt.title(\"Temperature in World Cities\")\n",
    "plt.ylabel(\"Temperature (F)\")\n",
    "plt.xlabel(\"Latitude\")\n",
    "plt.grid(True)\n",
    "\n",
    "# Save the figure\n",
    "plt.savefig(\"TemperatureInWorldCities.png\")\n",
    "\n",
    "# Show plot\n",
    "plt.show()"
   ]
  },
  {
   "cell_type": "code",
   "execution_count": 433,
   "metadata": {},
   "outputs": [
    {
     "data": {
      "image/png": "[encoded data removed]",
      "text/plain": [
       "<Figure size 432x288 with 1 Axes>"
      ]
     },
     "metadata": {
      "needs_background": "light"
     },
     "output_type": "display_data"
    }
   ],
   "source": [
    "# Build a scatter plot for each data type\n",
    "plt.scatter(weather_df[\"lat\"], weather_df[\"humidity\"], marker=\"o\")\n",
    "\n",
    "# Incorporate the other graph properties\n",
    "plt.title(\"Humidity in World Cities\")\n",
    "plt.ylabel(\"Humidity %\")\n",
    "plt.xlabel(\"Latitude\")\n",
    "plt.grid(True)\n",
    "\n",
    "# Save the figure\n",
    "plt.savefig(\"HumidityInWorldCities.png\")\n",
    "\n",
    "# Show plot\n",
    "plt.show()"
   ]
  },
  {
   "cell_type": "code",
   "execution_count": 434,
   "metadata": {},
   "outputs": [
    {
     "data": {
      "image/png": "[encoded data removed]",
      "text/plain": [
       "<Figure size 432x288 with 1 Axes>"
      ]
     },
     "metadata": {
      "needs_background": "light"
     },
     "output_type": "display_data"
    }
   ],
   "source": [
    "# Build a scatter plot for each data type\n",
    "plt.scatter(weather_df[\"lat\"], weather_df[\"clouds\"], marker=\"o\")\n",
    "\n",
    "# Incorporate the other graph properties\n",
    "plt.title(\"Cloud Coverage in World Cities\")\n",
    "plt.ylabel(\"Cloud Coverage %\")\n",
    "plt.xlabel(\"Latitude\")\n",
    "plt.grid(True)\n",
    "\n",
    "# Save the figure\n",
    "plt.savefig(\"CloudsInWorldCities.png\")\n",
    "\n",
    "# Show plot\n",
    "plt.show()"
   ]
  },
  {
   "cell_type": "code",
   "execution_count": 435,
   "metadata": {},
   "outputs": [
    {
     "data": {
      "image/png": "[encoded data removed]",
      "text/plain": [
       "<Figure size 432x288 with 1 Axes>"
      ]
     },
     "metadata": {
      "needs_background": "light"
     },
     "output_type": "display_data"
    }
   ],
   "source": [
    "# Build a scatter plot for each data type\n",
    "plt.scatter(weather_df[\"lat\"], weather_df[\"windspeed_mph\"], marker=\"o\")\n",
    "\n",
    "# Incorporate the other graph properties\n",
    "plt.title(\"Wind Speed in World Cities\")\n",
    "plt.ylabel(\"wind Speed mph\")\n",
    "plt.xlabel(\"Latitude\")\n",
    "plt.grid(True)\n",
    "\n",
    "# Save the figure\n",
    "plt.savefig(\"windInWorldCities.png\")\n",
    "\n",
    "# Show plot\n",
    "plt.show()"
   ]
  },
  {
   "cell_type": "code",
   "execution_count": null,
   "metadata": {},
   "outputs": [],
   "source": []
  },
  {
   "cell_type": "code",
   "execution_count": null,
   "metadata": {},
   "outputs": [],
   "source": []
  }
 ],
 "metadata": {
  "kernelspec": {
   "display_name": "'Python Interactive'",
   "language": "python",
   "name": "d83a8af1-695c-48be-bcdc-fdac87eb10ba"
  },
  "language_info": {
   "codemirror_mode": {
    "name": "ipython",
    "version": 3
   },
   "file_extension": ".py",
   "mimetype": "text/x-python",
   "name": "python",
   "nbconvert_exporter": "python",
   "pygments_lexer": "ipython3",
   "version": "3.7.0"
  }
 },
 "nbformat": 4,
 "nbformat_minor": 2
}

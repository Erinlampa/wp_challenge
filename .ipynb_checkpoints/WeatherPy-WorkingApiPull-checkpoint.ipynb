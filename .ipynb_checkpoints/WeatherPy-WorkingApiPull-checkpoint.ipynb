{
 "cells": [
  {
   "cell_type": "markdown",
   "metadata": {},
   "source": [
    "# Dependencies and Setup"
   ]
  },
  {
   "cell_type": "code",
   "execution_count": 1,
   "metadata": {
    "scrolled": true
   },
   "outputs": [],
   "source": [
    "# Dependencies and Setup\n",
    "import matplotlib.pyplot as plt\n",
    "import pandas as pd\n",
    "import numpy as np\n",
    "import requests\n",
    "import time\n",
    "import json\n",
    "from ratelimit import limits\n",
    "import openweathermapy.core as owm\n",
    "\n",
    "url = \"http://api.openweathermap.org/data/2.5/weather?\"\n",
    "units = \"imperial\"\n",
    "\n",
    "# Import API key\n",
    "api_key = \"852305aaf0b662497d868eb7f882c53a\"\n",
    "\n",
    "# Incorporated citipy to determine city based on latitude and longitude\n",
    "from citipy import citipy\n",
    "\n",
    "# Output File (CSV)\n",
    "output_data_file = \"cities.csv\"\n",
    "\n",
    "# Range of latitudes and longitudes\n",
    "lat_range = (-90, 90)\n",
    "lng_range = (-180, 180)"
   ]
  },
  {
   "cell_type": "markdown",
   "metadata": {},
   "source": [
    "## Generate Cities List"
   ]
  },
  {
   "cell_type": "code",
   "execution_count": 2,
   "metadata": {},
   "outputs": [
    {
     "name": "stdout",
     "output_type": "stream",
     "text": [
      "19\n",
      "           city\n",
      "0   porto santo\n",
      "1       nevelsk\n",
      "2       shimoda\n",
      "3       ushuaia\n",
      "4  punta arenas\n"
     ]
    }
   ],
   "source": [
    "# List for holding lat_lngs and cities and json responses\n",
    "lat_lngs = []\n",
    "cities = []\n",
    "\n",
    "# Create a set of random lat and lng combinations\n",
    "lats = np.random.uniform(low=-90.000, high=90.000, size=20)\n",
    "lngs = np.random.uniform(low=-180.000, high=180.000, size=20)\n",
    "lat_lngs = zip(lats, lngs)\n",
    "\n",
    "# Identify nearest city for each lat, lng combination\n",
    "for lat_lng in lat_lngs:\n",
    "    city = citipy.nearest_city(lat_lng[0], lat_lng[1]).city_name\n",
    "    \n",
    "    # If the city is unique, then add it to our cities list\n",
    "    if city not in cities:\n",
    "        cities.append(city)\n",
    "\n",
    "# Print the city count to confirm sufficient count\n",
    "print(len(cities))\n",
    "\n",
    "cities_df = pd.DataFrame(cities)\n",
    "cities_df.columns = ['city']\n",
    "print(cities_df.head())"
   ]
  },
  {
   "cell_type": "markdown",
   "metadata": {},
   "source": [
    "### Perform API Calls\n",
    "* Perform a weather check on each city using a series of successive API calls.\n",
    "* Include a print log of each city as it'sbeing processed (with the city number and city name).\n"
   ]
  },
  {
   "cell_type": "markdown",
   "metadata": {},
   "source": [
    "#test"
   ]
  },
  {
   "cell_type": "code",
   "execution_count": 3,
   "metadata": {},
   "outputs": [
    {
     "data": {
      "text/plain": [
       "{'coord': {'lon': -93.27, 'lat': 44.98},\n",
       " 'weather': [{'id': 600,\n",
       "   'main': 'Snow',\n",
       "   'description': 'light snow',\n",
       "   'icon': '13n'}],\n",
       " 'base': 'stations',\n",
       " 'main': {'temp': 7.14,\n",
       "  'pressure': 1027,\n",
       "  'humidity': 65,\n",
       "  'temp_min': 3.2,\n",
       "  'temp_max': 10.4},\n",
       " 'visibility': 9656,\n",
       " 'wind': {'speed': 11.41, 'deg': 360},\n",
       " 'clouds': {'all': 90},\n",
       " 'dt': 1547860920,\n",
       " 'sys': {'type': 1,\n",
       "  'id': 4900,\n",
       "  'message': 0.0042,\n",
       "  'country': 'US',\n",
       "  'sunrise': 1547905510,\n",
       "  'sunset': 1547938971},\n",
       " 'id': 5037649,\n",
       " 'name': 'Minneapolis',\n",
       " 'cod': 200}"
      ]
     },
     "execution_count": 3,
     "metadata": {},
     "output_type": "execute_result"
    }
   ],
   "source": [
    "#Config Info\n",
    "\n",
    "#Test City\n",
    "city_test= \"minneapolis\"\n",
    "\n",
    "#set url\n",
    "query_url = f\"{url}appid={api_key}&q={city_test}&units=imperial\"\n",
    "current_weather = requests.get(query_url).json()\n"
   ]
  },
  {
   "cell_type": "code",
   "execution_count": 7,
   "metadata": {},
   "outputs": [
    {
     "name": "stdout",
     "output_type": "stream",
     "text": [
      "7.14 65 90 44.98\n"
     ]
    }
   ],
   "source": [
    "lats = []\n",
    "temps = []\n",
    "clouds = []\n",
    "humidity = []\n",
    "city_n = []\n",
    "countries = []\n",
    "\n",
    "\n",
    "temp = current_weather[\"main\"][\"temp\"]\n",
    "humid = current_weather[\"main\"][\"humidity\"]\n",
    "cloud = current_weather[\"clouds\"][\"all\"]\n",
    "lat = current_weather[\"coord\"][\"lat\"]\n",
    "long = current_weather[\"coord\"][\"lon\"]\n",
    "country = current_weather[\"sys\"][\"country\"]\n",
    "city_name = current_weather[\"name\"]\n",
    "date_d = current_weather[\"dt\"]\n",
    "\n",
    "lats.append(lat)\n",
    "temps.append(temp)\n",
    "humidity.append(humid)\n",
    "countries.append(country)\n",
    "city_n.append(city_name)\n",
    "clouds.append(cloud)\n",
    "\n",
    "print(temp, humid, cloud, lat)"
   ]
  },
  {
   "cell_type": "markdown",
   "metadata": {},
   "source": [
    "#Test Complete"
   ]
  },
  {
   "cell_type": "code",
   "execution_count": null,
   "metadata": {},
   "outputs": [],
   "source": [
    "#set url\n",
    "\n",
    "#Set API Limits\n",
    "one_min = 75\n",
    "\n",
    "@limits(calls=50, period=one_min)\n",
    "def call_api(url):\n",
    "       if response.status_code != 200:\n",
    "        raise Exception('API response: {}'.format(response.status_code))\n",
    "        return response"
   ]
  },
  {
   "cell_type": "code",
   "execution_count": null,
   "metadata": {},
   "outputs": [],
   "source": [
    "#Test\n",
    "\n",
    "#Create loop to run through cities and collect data\n",
    "\n",
    "city = \"minneapolis\"\n",
    "\n",
    "query_url = f\"{url}appid={api_key}&q={city}&units=imperial\"\n",
    "\n",
    "print(query_url)\n",
    "weather_response =  requests.get(query_url)\n",
    "response_json.append(wj)   \n",
    "print(f\"Requesting weather data for Minneapolis...please stand by\")      \n",
    "     \n",
    "print(query_url)       \n",
    "print(response_json)"
   ]
  },
  {
   "cell_type": "code",
   "execution_count": null,
   "metadata": {},
   "outputs": [],
   "source": [
    "#Set data to collect\n",
    "response_json = []\n",
    "lats = []\n",
    "temps = []\n",
    "clouds = []\n",
    "humidity = []\n",
    "countries = []\n",
    "city_n = []\n",
    "date = []\n",
    "longs = []\n"
   ]
  },
  {
   "cell_type": "code",
   "execution_count": null,
   "metadata": {},
   "outputs": [],
   "source": [
    "#URL\n",
    "\n",
    "#Create loop to run through cities and collect data\n",
    "\n",
    "query_url = f\"{url}appid={api_key}&q={city}&units=imperial\"\n",
    "\n",
    "print(query_url)\n",
    "\n",
    "for city in range(len(cities)): \n",
    "        weather_response =  requests.get(query_url)\n",
    "        response_json.append(wj)   \n",
    "        print(f\"Requesting weather data for {cities[city]}...please stand by\")      \n",
    "     \n",
    "        \n",
    "print(\"done\")  \n",
    "print(response_json)"
   ]
  },
  {
   "cell_type": "markdown",
   "metadata": {},
   "source": [
    "### Plotting the Data\n",
    "* Use proper labeling of the plots using plot titles (including date of analysis) and axes labels.\n",
    "* Save the plotted figures as .pngs."
   ]
  },
  {
   "cell_type": "markdown",
   "metadata": {},
   "source": [
    "#### Latitude vs. Temperature Plot"
   ]
  },
  {
   "cell_type": "code",
   "execution_count": null,
   "metadata": {},
   "outputs": [],
   "source": []
  },
  {
   "cell_type": "markdown",
   "metadata": {},
   "source": [
    "#### Latitude vs. Humidity Plot"
   ]
  },
  {
   "cell_type": "code",
   "execution_count": null,
   "metadata": {},
   "outputs": [],
   "source": []
  },
  {
   "cell_type": "markdown",
   "metadata": {},
   "source": [
    "#### Latitude vs. Cloudiness Plot"
   ]
  },
  {
   "cell_type": "code",
   "execution_count": null,
   "metadata": {},
   "outputs": [],
   "source": []
  },
  {
   "cell_type": "markdown",
   "metadata": {},
   "source": [
    "#### Latitude vs. Wind Speed Plot"
   ]
  },
  {
   "cell_type": "code",
   "execution_count": null,
   "metadata": {},
   "outputs": [],
   "source": []
  },
  {
   "cell_type": "code",
   "execution_count": null,
   "metadata": {},
   "outputs": [],
   "source": []
  }
 ],
 "metadata": {
  "anaconda-cloud": {},
  "kernelspec": {
   "display_name": "'Python Interactive'",
   "language": "python",
   "name": "d83a8af1-695c-48be-bcdc-fdac87eb10ba"
  },
  "language_info": {
   "codemirror_mode": {
    "name": "ipython",
    "version": 3
   },
   "file_extension": ".py",
   "mimetype": "text/x-python",
   "name": "python",
   "nbconvert_exporter": "python",
   "pygments_lexer": "ipython3",
   "version": "3.7.0"
  }
 },
 "nbformat": 4,
 "nbformat_minor": 2
}
